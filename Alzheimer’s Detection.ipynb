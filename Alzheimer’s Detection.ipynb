{
 "cells": [
  {
   "cell_type": "code",
   "execution_count": 1,
   "id": "e798759b-5af5-42ba-a443-63c39bec52c3",
   "metadata": {},
   "outputs": [],
   "source": [
    "import pandas as pd\n",
    "import numpy as np\n",
    "import os\n",
    "import cv2\n",
    "import matplotlib.pyplot as plt\n",
    "from keras.models import Sequential\n",
    "from PIL import Image\n",
    "from keras.layers import Conv2D,Flatten,Dense,Dropout,BatchNormalization,MaxPooling2D\n",
    "from sklearn.preprocessing import OneHotEncoder\n",
    "from sklearn.model_selection import train_test_split\n",
    "import tensorflow as tf\n",
    "from tensorflow import keras\n"
   ]
  },
  {
   "cell_type": "code",
   "execution_count": 2,
   "id": "92aeb954-9e96-48e3-ab1e-015a0cd5baff",
   "metadata": {},
   "outputs": [],
   "source": [
    "# directory = 'dataset/Mild Dementia'\n",
    "\n",
    "# file_name = 'OAS1_0028_MR1_mpr-1_100.jpg'  \n",
    "\n",
    "# file_path = os.path.join(directory, file_name)\n",
    "\n",
    "# image = cv2.imread(file_path)\n",
    "\n",
    "# #cv2.imshow('image', image)  \n",
    "# plt.imshow(image)\n",
    "# if image is not None:\n",
    "#     # Get the pixel resolution (size) of the image\n",
    "#     height, width, channels = image.shape\n",
    "#     resolution = (width, height)\n",
    "#     print(\"Pixel resolution (size) of the image:\", resolution)\n",
    "# else:\n",
    "#     print(\"Failed to load the image.\")\n",
    "\n",
    "\n",
    "\n",
    "\n",
    "# directory = 'dataset/Mild Dementia'\n",
    "\n",
    "# file_name = 'OAS1_0028_MR1_mpr-1_100.jpg'  \n",
    "\n",
    "# file_path = os.path.join(directory, file_name)\n",
    "\n",
    "# image = cv2.imread(file_path)\n",
    "\n",
    "\n",
    "\n",
    "path1 = []\n",
    "path2 = []\n",
    "path3 = []\n",
    "path4 = []\n",
    "for dirname, _, filenames in os.walk('dataset/Non Demented'):\n",
    "    for filename in filenames:\n",
    "        path1.append(os.path.join(dirname, filename))\n",
    "        \n",
    "for dirname, _, filenames in os.walk('dataset/Mild Dementia'):\n",
    "    for filename in filenames:\n",
    "        path2.append(os.path.join(dirname, filename))\n",
    "        \n",
    "for dirname, _, filenames in os.walk('dataset/Moderate Dementia'):\n",
    "    for filename in filenames:\n",
    "        path3.append(os.path.join(dirname, filename))\n",
    "        \n",
    "for dirname, _, filenames in os.walk('dataset/Very mild Dementia'):\n",
    "    for filename in filenames:\n",
    "        path4.append(os.path.join(dirname, filename))  "
   ]
  },
  {
   "cell_type": "code",
   "execution_count": null,
   "id": "7cdabbc5-6543-4a41-9ca9-3cd68b5b75ee",
   "metadata": {},
   "outputs": [],
   "source": []
  }
 ],
 "metadata": {
  "kernelspec": {
   "display_name": "Python 3 (ipykernel)",
   "language": "python",
   "name": "python3"
  },
  "language_info": {
   "codemirror_mode": {
    "name": "ipython",
    "version": 3
   },
   "file_extension": ".py",
   "mimetype": "text/x-python",
   "name": "python",
   "nbconvert_exporter": "python",
   "pygments_lexer": "ipython3",
   "version": "3.11.2"
  }
 },
 "nbformat": 4,
 "nbformat_minor": 5
}
